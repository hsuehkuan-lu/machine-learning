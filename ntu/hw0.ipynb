{
 "cells": [
  {
   "cell_type": "markdown",
   "metadata": {},
   "source": [
    "# Probability and Statistics"
   ]
  },
  {
   "cell_type": "markdown",
   "metadata": {},
   "source": [
    "## Q1\n",
    "\n",
    "Prove $C^N_K = \\frac{N!}{K!(N-K)!}$\n",
    "\n",
    "$\\begin{aligned}\n",
    "    \\text{If } n=1: \\\\\n",
    "    C^1_K &= C^1_1 = C^1_0 = 1\\\\\n",
    "    \\text{Assume } n=m: \\\\\n",
    "    C^m_K &= \\frac{m!}{K!(m-K)!} \\\\\n",
    "          &= \\frac{(m-1)!}{K!(m-K-1)!} + \\frac{(m-1)!}{(K-1)!(m-K)!} \\\\\n",
    "          &= \\frac{(m-1)!}{K!(m-K)!}[m-K+K] = \\frac{m!}{K!(m-K)!} \\\\\n",
    "    \\text{Prove for } n=m+1: \\\\\n",
    "    C^{m+1}_K &= \\frac{(m+1)!}{K!(m-K+1)!} \\\\\n",
    "          &= \\frac{(m)!}{K!(m-K)!} + \\frac{(m)!}{(K-1)!(m-K+1)!} \\\\\n",
    "          &= \\frac{(m)!}{K!(m-K+1)!}[m-K+1+K] = \\frac{(m+1)!}{K!(m-K+1)!}\n",
    "\\end{aligned}$"
   ]
  },
  {
   "cell_type": "markdown",
   "metadata": {},
   "source": [
    "## Q2\n",
    "\n"
   ]
  }
 ],
 "metadata": {
  "kernelspec": {
   "display_name": "Python 3",
   "language": "python",
   "name": "python3"
  },
  "language_info": {
   "codemirror_mode": {
    "name": "ipython",
    "version": 3
   },
   "file_extension": ".py",
   "mimetype": "text/x-python",
   "name": "python",
   "nbconvert_exporter": "python",
   "pygments_lexer": "ipython3",
   "version": "3.8.5"
  }
 },
 "nbformat": 4,
 "nbformat_minor": 4
}
